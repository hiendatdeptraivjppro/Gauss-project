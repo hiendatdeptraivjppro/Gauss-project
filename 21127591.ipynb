{
 "cells": [
  {
   "cell_type": "markdown",
   "id": "63c87856-ca15-4523-8f19-714bdb116665",
   "metadata": {},
   "source": [
    "# Nguyễn Hiển Đạt\n",
    "# MSSV:21127591"
   ]
  },
  {
   "cell_type": "code",
   "execution_count": 37,
   "id": "03640941-8195-4093-bf82-66a0f819f499",
   "metadata": {},
   "outputs": [
    {
     "name": "stdout",
     "output_type": "stream",
     "text": [
      "Input:\n",
      "\n",
      "\n",
      "1\t\t1\t\t2\t\t9\t\t\n",
      "\n",
      "2\t\t4\t\t-3\t\t1\t\t\n",
      "\n",
      "3\t\t6\t\t-5\t\t0\t\t\n",
      "\n",
      "Output:\n",
      "\n",
      "\n",
      "1\t\t1\t\t2\t\t9\t\t\n",
      "\n",
      "0.0\t\t2.0\t\t-7.0\t\t-17.0\t\t\n",
      "\n",
      "0.0\t\t0.0\t\t-0.5\t\t-1.5\t\t\n",
      "\n"
     ]
    }
   ],
   "source": [
    "# Bài 1\n",
    "def show_Matrix(A):\n",
    "    print(\"\\n\")\n",
    "    for i in A:\n",
    "        for j in i:\n",
    "            print(j, end=\"\\t\\t\")\n",
    "        print(\"\\n\")\n",
    "\n",
    "def gauss_Elimination(a):\n",
    "    n=len(a[0])-1\n",
    "    for i in range (0,n-1,1):\n",
    "        for k in range(i+1,n,1):\n",
    "            t = a[k][i] / a[i][i]\n",
    "            for j in range (0,n+1,1):\n",
    "                 a[k][j] = a[k][j] - t * a[i][j]\n",
    "A = [\n",
    "    [1, 1, 2, 9],\n",
    "    [2, 4, -3, 1],\n",
    "    [3, 6, -5, 0]\n",
    "]\n",
    "print('Input:')\n",
    "show_Matrix(A)\n",
    "\n",
    "gauss_Elimination(A)\n",
    "print('Output:')\n",
    "show_Matrix(A)\n",
    "\n",
    "# show_Matrix(A): Hàm in ma trận.\n",
    "# gauss_Elimination(A): Hàm đưa ma trận input thành dạng bậc thang."
   ]
  },
  {
   "cell_type": "code",
   "execution_count": 34,
   "id": "bb7a6bdc-e4ad-4e95-9061-385777f7e366",
   "metadata": {},
   "outputs": [
    {
     "name": "stdout",
     "output_type": "stream",
     "text": [
      "\n",
      "Nghiệm hệ là: \n",
      "x0 = 3.00 \t\n",
      "x1 = 13.00 \t\n",
      "x2 = 9.00 \t\n"
     ]
    }
   ],
   "source": [
    "# Bài 2\n",
    "import numpy as np\n",
    "import sys\n",
    "B=[\n",
    "    [2,-4,6,8],\n",
    "    [1,-1,1,-1],\n",
    "    [1,-3,4,0]\n",
    "]\n",
    "\n",
    "C=[\n",
    "    [2,-4,-1,1],\n",
    "    [1,-3,1,1],\n",
    "    [3,-5,-3,2]\n",
    "]\n",
    "\n",
    "D=[\n",
    "    [1,-2,-1,1],\n",
    "    [2,-3,1,6],\n",
    "    [3,-5,0,7],\n",
    "    [1,0,5,9]\n",
    "]\n",
    "def back_Substitution(a):\n",
    "    n=len(a[0])-1\n",
    "    rank=np.linalg.matrix_rank(a)\n",
    "    if rank<n:\n",
    "        sys.exit('Vô số nghiệm')\n",
    "    x=[]\n",
    "    for i in range (n):\n",
    "        x.append(0)\n",
    "        \n",
    "    for i in range (n-1,-1,-1):\n",
    "        x[i]=a[i][n]\n",
    "        for j in range (0,n,1):\n",
    "            if i != j:\n",
    "                x[i]=x[i]-a[i][j]*x[j]\n",
    "        if a[i][i]!=0:\n",
    "            x[i]=x[i]/a[i][i]\n",
    "        else:\n",
    "            sys.exit('Vô nghiệm')\n",
    "    print('\\nNghiệm hệ là: ')\n",
    "    for i in range(n):\n",
    "        print('x%d = %0.2f' %(i,x[i]),'\\t')  \n",
    "gauss_Elimination(B)\n",
    "back_Substitution(B)\n",
    "\n",
    "# back_Substitution(a): Hàm tìm nghiệm của hệ phương trình.\n",
    "# Đầu tiên, em tìm số ẩn bằng cách lấy số cột trừ đi 1.\n",
    "# Tính bậc của ma trận nhờ vào hàm có sẵn trong thư viện numpy\n",
    "# Khởi tạo mảng x để lưu nghiệm của hệ, cho các phần tử đều bằng 0.\n",
    "# Trường hợp hệ có vô số nghiệm: So sánh nếu bậc ma trận nhỏ hơn số ẩn thì hệ có vô số nghiệm.\n",
    "# Trường hợp hệ vô nghiệm và có nghiệm duy nhất: tính theo hàm cài đặt ở trên, đặt thêm điều kiện kiểm tra xem \n",
    "# a[i][i]=0 hay không. Nếu a[i][i]=0 thì hệ vô nghiệm, nếu a[i][i]!=0 thì hệ có nghiệm duy nhất."
   ]
  },
  {
   "cell_type": "code",
   "execution_count": 41,
   "id": "b6f6e6ed-190f-47e0-8a5f-cf6959fdc608",
   "metadata": {},
   "outputs": [
    {
     "name": "stdout",
     "output_type": "stream",
     "text": [
      "\n",
      "Nghiệm hệ là: \n",
      "x0 = 3.00 \t\n",
      "x1 = 13.00 \t\n",
      "x2 = 9.00 \t\n"
     ]
    }
   ],
   "source": [
    "# Bài 3\n",
    "import numpy as np\n",
    "import sys\n",
    "def using_Library(vector):\n",
    "    n = len(vector[0])-1\n",
    "    a = np.zeros((n,n+1))\n",
    "    x = np.zeros(n)\n",
    "    rank=np.linalg.matrix_rank(vector)\n",
    "    if rank<n:\n",
    "        sys.exit('Vô số nghiệm')\n",
    "    for i in range(n):\n",
    "        for j in range(n+1):\n",
    "            a[i][j] = vector[i][j]\n",
    "    for i in range(n):\n",
    "        if a[i][i] == 0.0:\n",
    "            sys.exit('Vô nghiệm')\n",
    "    gauss_Elimination(vector)\n",
    "    x[n-1] = a[n-1][n]/a[n-1][n-1]\n",
    " \n",
    "    for i in range(n-2,-1,-1):\n",
    "        x[i] = a[i][n]\n",
    "     \n",
    "        for j in range(i+1,n):\n",
    "            x[i] = x[i] - a[i][j]*x[j]\n",
    "     \n",
    "        x[i] = x[i]/a[i][i]\n",
    " \n",
    "    print('\\nNghiệm hệ là: ')\n",
    "    for i in range(n):\n",
    "        print('x%d = %0.2f' %(i,x[i]),'\\t')\n",
    "\n",
    "using_Library(B)\n",
    "# using_Library(vector): Hàm tìm nghiệm của hệ phương trình sử dụng thư viện. \n",
    "# Đầu tiên, em tìm số ẩn bằng cách lấy số cột trừ đi 1.\n",
    "# Sau đó, khởi tạo mảng numpy a[n][n+1] và cho các phần tử đều bằng 0. Em sẽ lưu ma trận input vào mảng này.\n",
    "# Khởi tạo mảng x[n] dùng để lưu nghiệm của hệ phương trình.\n",
    "# Tiếp theo, sử dụng hàm gauss_Elimination(a) để đưa ma trận về dạng bậc thang.\n",
    "# Các trường hợp nghiệm giống như bài 2.\n",
    "# So sánh hai cách làm không có sai khác về kết quả."
   ]
  },
  {
   "cell_type": "code",
   "execution_count": 2,
   "id": "ca75d7ba-4f00-4700-9ac6-0f43cc70edb7",
   "metadata": {},
   "outputs": [],
   "source": []
  },
  {
   "cell_type": "code",
   "execution_count": null,
   "id": "d606b22b-3929-4f56-9ddf-74ef05113d24",
   "metadata": {},
   "outputs": [],
   "source": []
  }
 ],
 "metadata": {
  "kernelspec": {
   "display_name": "Python 3 (ipykernel)",
   "language": "python",
   "name": "python3"
  },
  "language_info": {
   "codemirror_mode": {
    "name": "ipython",
    "version": 3
   },
   "file_extension": ".py",
   "mimetype": "text/x-python",
   "name": "python",
   "nbconvert_exporter": "python",
   "pygments_lexer": "ipython3",
   "version": "3.10.9"
  }
 },
 "nbformat": 4,
 "nbformat_minor": 5
}

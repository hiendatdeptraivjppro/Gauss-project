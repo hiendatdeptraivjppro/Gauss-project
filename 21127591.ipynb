{
 "cells": [
  {
   "cell_type": "markdown",
   "id": "63c87856-ca15-4523-8f19-714bdb116665",
   "metadata": {},
   "source": [
    "# Nguyễn Hiển Đạt\n",
    "# MSSV:21127591"
   ]
  },
  {
   "cell_type": "code",
   "execution_count": 135,
   "id": "03640941-8195-4093-bf82-66a0f819f499",
   "metadata": {},
   "outputs": [
    {
     "name": "stdout",
     "output_type": "stream",
     "text": [
      "Input:\n",
      "\n",
      "\n",
      "1\t\t1\t\t2\t\t9\t\t\n",
      "\n",
      "2\t\t4\t\t-3\t\t1\t\t\n",
      "\n",
      "3\t\t6\t\t-5\t\t0\t\t\n",
      "\n",
      "Output:\n",
      "\n",
      "\n",
      "1\t\t1\t\t2\t\t9\t\t\n",
      "\n",
      "0.0\t\t2.0\t\t-7.0\t\t-17.0\t\t\n",
      "\n",
      "0.0\t\t0.0\t\t-0.5\t\t-1.5\t\t\n",
      "\n"
     ]
    }
   ],
   "source": [
    "# Bài 1\n",
    "def show_Matrix(A):\n",
    "    print(\"\\n\")\n",
    "    for i in A:\n",
    "        for j in i:\n",
    "            print(j, end=\"\\t\\t\")\n",
    "        print(\"\\n\")\n",
    "\n",
    "def gauss_Elimination(a):\n",
    "    n=len(a[0])-1\n",
    "    for i in range (0,n-1,1):\n",
    "        for k in range( i+1,n,1):\n",
    "            t = a[k][i] / a[i][i]\n",
    "            for j in range (0,n+1,1):\n",
    "                 a[k][j] = a[k][j] - t * a[i][j]\n",
    "A = [\n",
    "    [1, 1, 2, 9],\n",
    "    [2, 4, -3, 1],\n",
    "    [3, 6, -5, 0]\n",
    "]\n",
    "print('Input:')\n",
    "show_Matrix(A)\n",
    "\n",
    "gauss_Elimination(A)\n",
    "print('Output:')\n",
    "show_Matrix(A)"
   ]
  },
  {
   "cell_type": "code",
   "execution_count": 139,
   "id": "bb7a6bdc-e4ad-4e95-9061-385777f7e366",
   "metadata": {},
   "outputs": [
    {
     "name": "stdout",
     "output_type": "stream",
     "text": [
      "\n",
      "\n",
      "2\t\t-4\t\t-1\t\t1\t\t\n",
      "\n",
      "0.0\t\t-1.0\t\t1.5\t\t0.5\t\t\n",
      "\n",
      "0.0\t\t0.0\t\t0.0\t\t1.0\t\t\n",
      "\n",
      "Vô nghiệm\n"
     ]
    }
   ],
   "source": [
    "# Bài 2\n",
    "import numpy as np\n",
    "B=[\n",
    "    [2,-4,6,8],\n",
    "    [1,-1,1,-1],\n",
    "    [1,-3,4,0]\n",
    "]\n",
    "\n",
    "C=[\n",
    "    [2,-4,-1,1],\n",
    "    [1,-3,1,1],\n",
    "    [3,-5,-3,2]\n",
    "]\n",
    "def back_Substitution(a):\n",
    "    n=len(a[0])-1\n",
    "    rank=np.linalg.matrix_rank(a)\n",
    "    if rank<n:\n",
    "        print('Vô số nghiệm')\n",
    "        return\n",
    "    x=[]\n",
    "    for i in range (n):\n",
    "        x.append(0)\n",
    "        \n",
    "    for i in range (n-1,-1,-1):\n",
    "        x[i]=a[i][n]\n",
    "        for j in range (0,n,1):\n",
    "            if i != j:\n",
    "                x[i]=x[i]-a[i][j]*x[j]\n",
    "        if a[i][i]!=0:\n",
    "            x[i]=x[i]/a[i][i]\n",
    "        else:\n",
    "            print('Vô nghiệm')\n",
    "            return\n",
    "    for i in range (0,n,1):\n",
    "        print(x[i])     \n",
    "gauss_Elimination(C)\n",
    "show_Matrix(C)\n",
    "back_Substitution(C)"
   ]
  },
  {
   "cell_type": "code",
   "execution_count": null,
   "id": "b6f6e6ed-190f-47e0-8a5f-cf6959fdc608",
   "metadata": {},
   "outputs": [],
   "source": []
  }
 ],
 "metadata": {
  "kernelspec": {
   "display_name": "Python 3 (ipykernel)",
   "language": "python",
   "name": "python3"
  },
  "language_info": {
   "codemirror_mode": {
    "name": "ipython",
    "version": 3
   },
   "file_extension": ".py",
   "mimetype": "text/x-python",
   "name": "python",
   "nbconvert_exporter": "python",
   "pygments_lexer": "ipython3",
   "version": "3.10.9"
  }
 },
 "nbformat": 4,
 "nbformat_minor": 5
}
